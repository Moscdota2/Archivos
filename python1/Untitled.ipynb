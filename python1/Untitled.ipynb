{
 "cells": [
  {
   "cell_type": "code",
   "execution_count": 1,
   "id": "8cb7ffc8-6e4f-4b48-aeb3-235deeea98e5",
   "metadata": {},
   "outputs": [],
   "source": [
    "import pandas as joto"
   ]
  },
  {
   "cell_type": "code",
   "execution_count": 2,
   "id": "e6734890-9d55-4abd-8fa3-238375bf84dc",
   "metadata": {},
   "outputs": [],
   "source": [
    "\n",
    "\n",
    "\n",
    "def notas1(nota: list):\n",
    "    \n",
    "    dicc = joto.Series(nota)\n",
    "    \n",
    "    return dicc\n",
    "    \n",
    "    "
   ]
  },
  {
   "cell_type": "code",
   "execution_count": null,
   "metadata": {},
   "outputs": [],
   "source": [
    "# Arreglando archivo jupyter"
   ]
  },
  {
   "cell_type": "code",
   "execution_count": 3,
   "id": "f36b87f5-ceda-49d7-868e-9be073afba1e",
   "metadata": {},
   "outputs": [
    {
     "data": {
      "text/plain": [
       "0    1\n",
       "1    2\n",
       "dtype: int64"
      ]
     },
     "execution_count": 3,
     "metadata": {},
     "output_type": "execute_result"
    }
   ],
   "source": [
    "notas1([1, 2])"
   ]
  },
  {
   "cell_type": "code",
   "execution_count": 5,
   "id": "13dea7f0-17c2-4e5a-8995-acff37607858",
   "metadata": {},
   "outputs": [
    {
     "name": "stdout",
     "output_type": "stream",
     "text": [
      "1. Agregar nota\n",
      "2. Salir\n"
     ]
    },
    {
     "name": "stdin",
     "output_type": "stream",
     "text": [
      "Ingrese su opcion (1-2)  1\n",
      "Cuantas notas desea agregar 5\n",
      "[1] Ingrese nota:  5\n",
      "[2] Ingrese nota:  4\n",
      "[3] Ingrese nota:  8\n",
      "[4] Ingrese nota:  6\n",
      "[5] Ingrese nota:  7\n"
     ]
    },
    {
     "name": "stdout",
     "output_type": "stream",
     "text": [
      "Notas Cargadas\n",
      "\n",
      "\n",
      "1. Agregar nota\n",
      "2. Salir\n"
     ]
    },
    {
     "name": "stdin",
     "output_type": "stream",
     "text": [
      "Ingrese su opcion (1-2)  2\n"
     ]
    }
   ],
   "source": [
    "t = None\n",
    "while t != 2:\n",
    "\n",
    "    print('1. Agregar nota')\n",
    "    print('2. Salir')\n",
    "    t = int(input('Ingrese su opcion (1-2) '))\n",
    "    \n",
    "    if t == 1: \n",
    "        cant_nota = int(input('Cuantas notas desea agregar'))\n",
    "        list_notas = []\n",
    "        \n",
    "        for i in range(cant_nota):\n",
    "            index_nota = i + 1\n",
    "            nota = int(input(f'[{index_nota}] Ingrese nota: '))\n",
    "            list_notas.append(nota)\n",
    "            \n",
    "        resultado = notas1(list_notas)\n",
    "        \n",
    "        print('Notas Cargadas\\n\\n')\n",
    "    elif t == 2:\n",
    "        break\n",
    "    else:\n",
    "        t = None"
   ]
  },
  {
   "cell_type": "code",
   "execution_count": 6,
   "id": "e6e8d7cb-5d83-4c3f-8db3-2d4cca0e75a3",
   "metadata": {},
   "outputs": [
    {
     "data": {
      "text/plain": [
       "count    5.000000\n",
       "mean     6.000000\n",
       "std      1.581139\n",
       "min      4.000000\n",
       "25%      5.000000\n",
       "50%      6.000000\n",
       "75%      7.000000\n",
       "max      8.000000\n",
       "dtype: float64"
      ]
     },
     "execution_count": 6,
     "metadata": {},
     "output_type": "execute_result"
    }
   ],
   "source": [
    "resultado.describe()"
   ]
  }
 ],
 "metadata": {
  "kernelspec": {
   "display_name": "Python 3",
   "language": "python",
   "name": "python3"
  },
  "language_info": {
   "codemirror_mode": {
    "name": "ipython",
    "version": 3
   },
   "file_extension": ".py",
   "mimetype": "text/x-python",
   "name": "python",
   "nbconvert_exporter": "python",
   "pygments_lexer": "ipython3",
   "version": "3.9.5"
  }
 },
 "nbformat": 4,
 "nbformat_minor": 5
}